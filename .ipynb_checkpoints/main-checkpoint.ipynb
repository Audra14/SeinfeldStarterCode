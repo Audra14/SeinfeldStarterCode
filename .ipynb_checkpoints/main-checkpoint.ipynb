{
 "cells": [
  {
   "cell_type": "code",
   "execution_count": null,
   "metadata": {},
   "outputs": [],
   "source": [
    "#import the pandas module and name it pd for easy access\n",
    "\n",
    "#1. load in the data\n",
    "#1a. Save filename to variable\n",
    "\n",
    "#1b. Load filename into dataframe\n",
    "\n",
    "#2. Check it out\n",
    "#2a. View dataframe\n",
    "\n",
    "\n",
    "#2b. Only view first few entries\n",
    "\n",
    "\n",
    "#2c. View the first 10 entries\n",
    "\n",
    "\n",
    "#2d. View the last few entries\n",
    "\n",
    "\n",
    "#2e. View the last 10 entries\n",
    "\n",
    "\n",
    "#2f. View the number of rows and columns\n",
    "\n",
    "\n",
    "#2g. View the dialogue column\n",
    "\n",
    "\n",
    "#2h. View the 10th row\n",
    "\n",
    "\n",
    "#2i. View unique values and counts for a column (series)\n",
    "#2i1. Get a column\n",
    "\n",
    "\n",
    "#2i2. Get unique values and counts\n",
    "\n",
    "\n",
    "#2i3. Interpret results: Many of these entries have count 1 because they are more than just a character name.  Let's assume character name is in all caps. Extract all uppercase letters from the string using a list comprehension\n",
    "\n",
    "#We didn't talk about this in class, but see if you can figure out how to nest two list comprehensions to get rid of the outer for loop.  \n",
    "\n",
    "\n",
    "\n",
    "\n",
    "#2i4 Now that we have a cleaned list of names: remove duplicates, count occurances of each name, and print the top 10 speakers\n",
    "\n"
   ]
  }
 ],
 "metadata": {
  "kernelspec": {
   "display_name": "Python 3",
   "language": "python",
   "name": "python3"
  },
  "language_info": {
   "codemirror_mode": {
    "name": "ipython",
    "version": 3
   },
   "file_extension": ".py",
   "mimetype": "text/x-python",
   "name": "python",
   "nbconvert_exporter": "python",
   "pygments_lexer": "ipython3",
   "version": "3.6.5"
  }
 },
 "nbformat": 4,
 "nbformat_minor": 2
}
